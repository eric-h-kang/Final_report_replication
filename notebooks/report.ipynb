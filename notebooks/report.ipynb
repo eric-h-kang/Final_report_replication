{
 "cells": [
  {
   "cell_type": "markdown",
   "metadata": {},
   "source": [
    "No significant exploratory work was needed and so this notebook is unused. Code is based off of GradCAM code in the submodule as instructed by domain professor. Edited code segments have comments explaining the reasons for the change in root directory."
   ]
  },
  {
   "cell_type": "code",
   "execution_count": null,
   "metadata": {},
   "outputs": [],
   "source": []
  }
 ],
 "metadata": {
  "kernelspec": {
   "display_name": "Python 3",
   "language": "python",
   "name": "python3"
  },
  "language_info": {
   "codemirror_mode": {
    "name": "ipython",
    "version": 3
   },
   "file_extension": ".py",
   "mimetype": "text/x-python",
   "name": "python",
   "nbconvert_exporter": "python",
   "pygments_lexer": "ipython3",
   "version": "3.7.6"
  }
 },
 "nbformat": 4,
 "nbformat_minor": 4
}
